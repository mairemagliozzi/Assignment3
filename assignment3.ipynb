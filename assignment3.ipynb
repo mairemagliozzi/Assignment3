{
 "cells": [
  {
   "cell_type": "markdown",
   "id": "615c54d3",
   "metadata": {},
   "source": [
    "One of my main hobbies is going to soccer games. I am a season ticket holder with the New England Revolution. I sit in the supporters section with my husband and my friends. We also travel sometimes to see different soccer games. We will be traveling in April to see the Unite States Women’s National team play in St. Louis. I have also traveled to Columbus, Cleveland, Chicago, Orlando, and New York/New Jersey among other places to see Revolution and national team games."
   ]
  },
  {
   "cell_type": "code",
   "execution_count": 5,
   "id": "60781089",
   "metadata": {},
   "outputs": [],
   "source": [
    "from IPython.display import HTML"
   ]
  },
  {
   "cell_type": "code",
   "execution_count": 6,
   "id": "41cef098",
   "metadata": {},
   "outputs": [
    {
     "data": {
      "text/html": [
       "\n",
       "<video width=\"320\" height=\"240\" controls>\n",
       "  <source src=\"https://github.com/mairemagliozzi/Assignment3/blob/1b42069a8d0d4d5e8bf6eb6bad64351bdcce1396/525EC521-C631-4A94-A7E4-106CC032BA68.mp4?raw=true\" type=\"video/mp4\">\n",
       "</video>\n"
      ],
      "text/plain": [
       "<IPython.core.display.HTML object>"
      ]
     },
     "execution_count": 6,
     "metadata": {},
     "output_type": "execute_result"
    }
   ],
   "source": [
    "HTML(\"\"\"\n",
    "<video width=\"320\" height=\"240\" controls>\n",
    "  <source src=\"https://github.com/mairemagliozzi/Assignment3/blob/1b42069a8d0d4d5e8bf6eb6bad64351bdcce1396/525EC521-C631-4A94-A7E4-106CC032BA68.mp4?raw=true\" type=\"video/mp4\">\n",
    "</video>\n",
    "\"\"\")\n"
   ]
  }
 ],
 "metadata": {
  "kernelspec": {
   "display_name": "Python 3 (ipykernel)",
   "language": "python",
   "name": "python3"
  },
  "language_info": {
   "codemirror_mode": {
    "name": "ipython",
    "version": 3
   },
   "file_extension": ".py",
   "mimetype": "text/x-python",
   "name": "python",
   "nbconvert_exporter": "python",
   "pygments_lexer": "ipython3",
   "version": "3.9.13"
  }
 },
 "nbformat": 4,
 "nbformat_minor": 5
}
